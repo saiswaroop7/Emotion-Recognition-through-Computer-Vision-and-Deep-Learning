{
 "cells": [
  {
   "cell_type": "markdown",
   "metadata": {},
   "source": [
    "## Emotion Detection through Deep Learning\n",
    "\n",
    "Presenting we are going to go through the procedure of training, Testing, validating and understanding how a Convolutional Neural Network has been made and used to classify human emotioin based on thier facial expression. \n",
    "\n",
    "This is the project concluding the final evaluation for the course Computer Vision and Image anaylsis.\n",
    "\n"
   ]
  },
  {
   "cell_type": "code",
   "execution_count": 1,
   "metadata": {},
   "outputs": [
    {
     "name": "stderr",
     "output_type": "stream",
     "text": [
      "Using TensorFlow backend.\n"
     ]
    },
    {
     "data": {
      "text/plain": [
       "'2.2.4'"
      ]
     },
     "execution_count": 1,
     "metadata": {},
     "output_type": "execute_result"
    }
   ],
   "source": [
    "import os, shutil\n",
    "import keras\n",
    "keras.__version__"
   ]
  },
  {
   "cell_type": "code",
   "execution_count": 4,
   "metadata": {},
   "outputs": [],
   "source": [
    "# Directories for our training, testing and validation\n",
    "\n",
    "train_dir = '/Downloads/tumelo/Train'\n",
    "validation_dir = '/Downloads/tumelo/Validation'\n",
    "test_dir = '/Downloads/tumelo/Test'\n",
    "\n",
    "# Directory with our training angry faces pictures\n",
    "train_angry_dir = '/Downloads/tumelo/Train/0'\n",
    "\n",
    "# Directory with our training disgust faces pictures\n",
    "train_disgust_dir = '/Downloads/tumelo/Train/1'\n",
    "\n",
    "# Directory with our training fear faces pictures\n",
    "train_fear_dir = '/Downloads/tumelo/Train/2'\n",
    "\n",
    "# Directory with our training happy faces pictures\n",
    "train_happy_dir = '/Downloads/tumelo/Train/3'\n",
    "\n",
    "# Directory with our training sad faces pictures\n",
    "train_sad_dir = '/Downloads/tumelo/Train/4'\n",
    "\n",
    "# Directory with our training surprise faces pictures\n",
    "train_surprise_dir = '/Downloads/tumelo/Train/5'\n",
    "\n",
    "# Directory with our training neutral faces pictures\n",
    "train_neutral_dir = '/Downloads/tumelo/Train/6'\n",
    "\n",
    "\n",
    "\n",
    "# Directory with our validation angry faces pictures\n",
    "validation_angry_dir = '/Downloads/tumelo/Validation/0'\n",
    "\n",
    "# Directory with our validation disgust faces pictures\n",
    "validation_disgust_dir = '/Downloads/tumelo/Validation/1'\n",
    "\n",
    "# Directory with our validation fear faces pictures\n",
    "validation_fear_dir = '/Downloads/tumelo/Validation/2'\n",
    "\n",
    "# Directory with our validation happy faces pictures\n",
    "validation_happy_dir = '/Downloads/tumelo/Validation/3'\n",
    "\n",
    "# Directory with our validation sad faces pictures\n",
    "validation_sad_dir = '/Downloads/tumelo/Validation/4'\n",
    "\n",
    "# Directory with our validation surprise faces pictures\n",
    "validation_surprise_dir = '/Downloads/tumelo/Validation/5'\n",
    "\n",
    "# Directory with our validation neutral faces pictures\n",
    "validation_neutral_dir = '/Downloads/tumelo/Validation/6'\n",
    "\n",
    "\n",
    "\n",
    "\n",
    "\n",
    "# Directory with our testing angry faces pictures\n",
    "test_angry_dir = '/Downloads/tumelo/Test/0'\n",
    "\n",
    "# Directory with our testing disgust faces pictures\n",
    "test_disgust_dir = '/Downloads/tumelo/Test/1'\n",
    "\n",
    "# Directory with our testing fear faces pictures\n",
    "test_fear_dir = '/Downloads/tumelo/Test/2'\n",
    "\n",
    "# Directory with our testing happy faces pictures\n",
    "test_happy_dir = '/Downloads/tumelo/Test/3'\n",
    "\n",
    "# Directory with our testing sad faces pictures\n",
    "test_sad_dir = '/Downloads/tumelo/Test/4'\n",
    "\n",
    "# Directory with our testing surprise faces pictures\n",
    "test_surprise_dir = '/Downloads/tumelo/Test/5'\n",
    "\n",
    "# Directory with our testing neutral faces pictures\n",
    "test_neutral_dir = '/Downloads/tumelo/Test/6'"
   ]
  },
  {
   "cell_type": "markdown",
   "metadata": {},
   "source": [
    "As a sanity check, let's count how many pictures we have in each training split (train/validation/test):"
   ]
  },
  {
   "cell_type": "code",
   "execution_count": 5,
   "metadata": {},
   "outputs": [
    {
     "name": "stdout",
     "output_type": "stream",
     "text": [
      "Total training angry expression images: 3995\n",
      "Total training disgust expression images: 436\n",
      "Total training fear expression images: 4097\n",
      "Total training happy expression images: 7215\n",
      "Total training sad expression images: 4830\n",
      "Total training surprise expression images: 3170\n",
      "Total training neutral expression images: 4965\n",
      "Total validation of angry expression images: 491\n",
      "Total validation of disgust expression images: 55\n",
      "Total validation of fear expression images: 528\n",
      "Total validation of happy expression images: 879\n",
      "Total validation of sad expression images: 594\n",
      "Total validation of surprise expression images: 416\n",
      "Total validation of neutral expression images: 626\n",
      "Total test of angry expression images: 467\n",
      "Total test of disgust expression images: 56\n",
      "Total test of fear expression images: 496\n",
      "Total test of happy expression images: 895\n",
      "Total test of sad expression images: 653\n",
      "Total test of surprise expression images: 415\n",
      "Total test of neutral expression images: 607\n"
     ]
    }
   ],
   "source": [
    "print('Total training angry expression images:', len(os.listdir(train_angry_dir)))\n",
    "print('Total training disgust expression images:', len(os.listdir(train_disgust_dir)))\n",
    "print('Total training fear expression images:', len(os.listdir(train_fear_dir)))\n",
    "print('Total training happy expression images:', len(os.listdir(train_happy_dir)))\n",
    "print('Total training sad expression images:', len(os.listdir(train_sad_dir)))\n",
    "print('Total training surprise expression images:', len(os.listdir(train_surprise_dir)))\n",
    "print('Total training neutral expression images:', len(os.listdir(train_neutral_dir)))\n",
    "\n",
    "print('Total validation of angry expression images:', len(os.listdir(validation_angry_dir)))\n",
    "print('Total validation of disgust expression images:', len(os.listdir(validation_disgust_dir)))\n",
    "print('Total validation of fear expression images:', len(os.listdir(validation_fear_dir)))\n",
    "print('Total validation of happy expression images:', len(os.listdir(validation_happy_dir)))\n",
    "print('Total validation of sad expression images:', len(os.listdir(validation_sad_dir)))\n",
    "print('Total validation of surprise expression images:', len(os.listdir(validation_surprise_dir)))\n",
    "print('Total validation of neutral expression images:', len(os.listdir(validation_neutral_dir)))\n",
    "\n",
    "print('Total test of angry expression images:', len(os.listdir(test_angry_dir)))\n",
    "print('Total test of disgust expression images:', len(os.listdir(test_disgust_dir)))\n",
    "print('Total test of fear expression images:', len(os.listdir(test_fear_dir)))\n",
    "print('Total test of happy expression images:', len(os.listdir(test_happy_dir)))\n",
    "print('Total test of sad expression images:', len(os.listdir(test_sad_dir)))\n",
    "print('Total test of surprise expression images:', len(os.listdir(test_surprise_dir)))\n",
    "print('Total test of neutral expression images:', len(os.listdir(test_neutral_dir)))"
   ]
  },
  {
   "cell_type": "markdown",
   "metadata": {},
   "source": [
    "we have X number of images\n",
    "\n",
    "\n",
    "## Building our network\n",
    "\n",
    "Since we are attacking a classification problem, we are ending the network with a single unit (a `Dense` layer of size 1) and a `sigmoid` activation. This unit will encode the probability that the network is looking at one class or the other.\n",
    "\n",
    "Because we only have relatively few training samples, overfitting is going to be our number one concern. This is why we have two dropout layers. 1 right after the second convolution layer and the other after flattening."
   ]
  },
  {
   "cell_type": "code",
   "execution_count": 16,
   "metadata": {},
   "outputs": [],
   "source": [
    "from keras import layers\n",
    "from keras import models\n",
    "from keras.layers import Dropout\n",
    "\n",
    "model = models.Sequential()\n",
    "\n",
    "#1st convolution layer\n",
    "model.add(layers.Conv2D(32, (3, 3), activation='relu', input_shape=(48, 48, 3)))\n",
    "model.add(layers.MaxPooling2D((2, 2)))\n",
    "\n",
    "#2nd convolution layer\n",
    "model.add(layers.Conv2D(64, (3, 3), activation='relu'))\n",
    "model.add(layers.MaxPooling2D((2, 2)))\n",
    "model.add(Dropout(0.5))\n",
    "\n",
    "#3rd convolution layer\n",
    "model.add(layers.Conv2D(64, (3, 3), activation='relu'))\n",
    "model.add(layers.MaxPooling2D((2, 2)))\n",
    "model.add(Dropout(0.5))\n",
    "\n",
    "#4th convolution layer\n",
    "model.add(layers.Conv2D(64, (3, 3), activation='relu'))\n",
    "model.add(layers.MaxPooling2D((2, 2)))\n",
    "\n",
    "\n",
    "\n",
    "#flatten\n",
    "model.add(layers.Flatten())\n",
    "\n",
    "model.add(Dropout(0.5))\n",
    "model.add(layers.Dense(64, activation='relu'))\n",
    "model.add(layers.Dense(1, activation='sigmoid'))"
   ]
  },
  {
   "cell_type": "markdown",
   "metadata": {},
   "source": [
    "Let's take a look at how the dimensions of the feature maps change with every successive layer:"
   ]
  },
  {
   "cell_type": "code",
   "execution_count": 17,
   "metadata": {},
   "outputs": [
    {
     "name": "stdout",
     "output_type": "stream",
     "text": [
      "_________________________________________________________________\n",
      "Layer (type)                 Output Shape              Param #   \n",
      "=================================================================\n",
      "conv2d_9 (Conv2D)            (None, 46, 46, 32)        896       \n",
      "_________________________________________________________________\n",
      "max_pooling2d_8 (MaxPooling2 (None, 23, 23, 32)        0         \n",
      "_________________________________________________________________\n",
      "conv2d_10 (Conv2D)           (None, 21, 21, 64)        18496     \n",
      "_________________________________________________________________\n",
      "max_pooling2d_9 (MaxPooling2 (None, 10, 10, 64)        0         \n",
      "_________________________________________________________________\n",
      "dropout_4 (Dropout)          (None, 10, 10, 64)        0         \n",
      "_________________________________________________________________\n",
      "conv2d_11 (Conv2D)           (None, 8, 8, 64)          36928     \n",
      "_________________________________________________________________\n",
      "max_pooling2d_10 (MaxPooling (None, 4, 4, 64)          0         \n",
      "_________________________________________________________________\n",
      "conv2d_12 (Conv2D)           (None, 2, 2, 64)          36928     \n",
      "_________________________________________________________________\n",
      "max_pooling2d_11 (MaxPooling (None, 1, 1, 64)          0         \n",
      "_________________________________________________________________\n",
      "flatten_2 (Flatten)          (None, 64)                0         \n",
      "_________________________________________________________________\n",
      "dropout_5 (Dropout)          (None, 64)                0         \n",
      "_________________________________________________________________\n",
      "dense_3 (Dense)              (None, 64)                4160      \n",
      "_________________________________________________________________\n",
      "dense_4 (Dense)              (None, 1)                 65        \n",
      "=================================================================\n",
      "Total params: 97,473\n",
      "Trainable params: 97,473\n",
      "Non-trainable params: 0\n",
      "_________________________________________________________________\n"
     ]
    }
   ],
   "source": [
    "model.summary()"
   ]
  },
  {
   "cell_type": "markdown",
   "metadata": {},
   "source": [
    "For our compilation step, we'll go with the `RMSprop` optimizer as usual"
   ]
  },
  {
   "cell_type": "code",
   "execution_count": 19,
   "metadata": {},
   "outputs": [],
   "source": [
    "from keras import optimizers\n",
    "\n",
    "model.compile( loss='binary_crossentropy', optimizer='adam', metrics=['accuracy'])"
   ]
  },
  {
   "cell_type": "markdown",
   "metadata": {},
   "source": [
    "## Data preprocessing\n",
    "\n",
    "Data should be formatted into appropriately pre-processed floating point tensors before being fed into our \n",
    "network. Currently, our data sits on a drive as JPEG files, so the steps for getting it into our network are roughly:\n",
    "\n",
    "* Read the picture files.\n",
    "* Decode the JPEG content to RBG grids of pixels.\n",
    "* Convert these into floating point tensors.\n",
    "* Rescale the pixel values (between 0 and 255) to the [0, 1] interval (as you know, neural networks prefer to deal with small input values).\n",
    "\n",
    "It may seem a bit daunting, but thankfully Keras has utilities to take care of these steps automatically. Keras has a module with image \n",
    "processing helper tools, located at `keras.preprocessing.image`. In particular, it contains the class `ImageDataGenerator` which allows to \n",
    "quickly set up Python generators that can automatically turn image files on disk into batches of pre-processed tensors. This is what we \n",
    "will use here."
   ]
  },
  {
   "cell_type": "code",
   "execution_count": 20,
   "metadata": {},
   "outputs": [
    {
     "name": "stdout",
     "output_type": "stream",
     "text": [
      "Found 28708 images belonging to 7 classes.\n",
      "Found 3589 images belonging to 7 classes.\n"
     ]
    }
   ],
   "source": [
    "from keras.preprocessing.image import ImageDataGenerator\n",
    "\n",
    "# All images will be rescaled by 1./255\n",
    "train_datagen = ImageDataGenerator(rescale=1. / 255)\n",
    "test_datagen = ImageDataGenerator(rescale=1. / 255)\n",
    "\n",
    "train_generator = train_datagen.flow_from_directory(\n",
    "        # This is the target directory\n",
    "        train_dir,\n",
    "        # All images will be resized to 150x150\n",
    "        target_size=(48, 48),\n",
    "        batch_size=40,\n",
    "        # Since we use binary_crossentropy loss, we need binary labels\n",
    "        class_mode='binary')\n",
    "\n",
    "validation_generator = test_datagen.flow_from_directory(\n",
    "        validation_dir,\n",
    "        target_size=(48, 48),\n",
    "        batch_size=40,\n",
    "        class_mode='binary')"
   ]
  },
  {
   "cell_type": "markdown",
   "metadata": {},
   "source": [
    "Taking a look at the output of one of these generators: it yields batches of 150x150 RGB images (shape `(20, 150, 150, 3)`) and binary labels (shape `(20,)`). 20 is the number of samples in each batch (the batch size). Note that the generator yields these batches indefinitely: it just loops endlessly over the images present in the target folder. For this reason, we need to `break` the iteration loop \n",
    "at some point."
   ]
  },
  {
   "cell_type": "code",
   "execution_count": 21,
   "metadata": {},
   "outputs": [
    {
     "name": "stdout",
     "output_type": "stream",
     "text": [
      "Data batch shape: (40, 48, 48, 3)\n",
      "Labels batch shape: (40,)\n"
     ]
    }
   ],
   "source": [
    "for data_batch, labels_batch in train_generator:\n",
    "    print('Data batch shape:', data_batch.shape)\n",
    "    print('Labels batch shape:', labels_batch.shape)\n",
    "    break"
   ]
  },
  {
   "cell_type": "markdown",
   "metadata": {},
   "source": [
    "Let's fit our model to the data using the generator. We do it using the `fit_generator` method, the equivalent of `fit` for data generators \n",
    "like ours. It expects as first argument a Python generator that will yield batches of inputs and targets indefinitely, like ours does. \n",
    "Because the data is being generated endlessly, the generator needs to know example how many samples to draw from the generator before \n",
    "declaring an epoch over. This is the role of the `steps_per_epoch` argument: after having drawn `steps_per_epoch` batches from the \n",
    "generator, i.e. after having run for `steps_per_epoch` gradient descent steps, the fitting process will go to the next epoch. In our case, \n",
    "batches are 20-sample large, so it will take 100 batches until we see our target of 2000 samples.\n",
    "\n",
    "When using `fit_generator`, one may pass a `validation_data` argument, much like with the `fit` method. Importantly, this argument is \n",
    "allowed to be a data generator itself, but it could be a tuple of Numpy arrays as well. If you pass a generator as `validation_data`, then \n",
    "this generator is expected to yield batches of validation data endlessly, and thus you should also specify the `validation_steps` argument, \n",
    "which tells the process how many batches to draw from the validation generator for evaluation."
   ]
  },
  {
   "cell_type": "code",
   "execution_count": null,
   "metadata": {},
   "outputs": [
    {
     "name": "stdout",
     "output_type": "stream",
     "text": [
      "Epoch 1/100\n",
      "200/200 [==============================] - 37s 186ms/step - loss: -36.0373 - acc: 0.0146 - val_loss: -37.2862 - val_acc: 0.0149\n",
      "Epoch 2/100\n",
      "200/200 [==============================] - 40s 200ms/step - loss: -36.6097 - acc: 0.0148 - val_loss: -37.3221 - val_acc: 0.0160\n",
      "Epoch 3/100\n",
      "200/200 [==============================] - 41s 205ms/step - loss: -36.9046 - acc: 0.0144 - val_loss: -36.8485 - val_acc: 0.0157\n",
      "Epoch 4/100\n",
      "200/200 [==============================] - 43s 213ms/step - loss: -36.9408 - acc: 0.0182 - val_loss: -37.2362 - val_acc: 0.0147\n",
      "Epoch 5/100\n",
      "200/200 [==============================] - 42s 211ms/step - loss: -36.7412 - acc: 0.0159 - val_loss: -37.2776 - val_acc: 0.0156\n",
      "Epoch 6/100\n",
      "200/200 [==============================] - 44s 219ms/step - loss: -36.8847 - acc: 0.0144 - val_loss: -37.1323 - val_acc: 0.0153\n",
      "Epoch 7/100\n",
      "200/200 [==============================] - 49s 243ms/step - loss: -37.2693 - acc: 0.0148 - val_loss: -37.0544 - val_acc: 0.0145\n",
      "Epoch 8/100\n",
      "200/200 [==============================] - 78s 392ms/step - loss: -36.8551 - acc: 0.0157 - val_loss: -37.4061 - val_acc: 0.0158\n",
      "Epoch 9/100\n",
      "200/200 [==============================] - 48s 242ms/step - loss: -37.2374 - acc: 0.0145 - val_loss: -37.0935 - val_acc: 0.0154\n",
      "Epoch 10/100\n",
      "200/200 [==============================] - 43s 213ms/step - loss: -36.8548 - acc: 0.0164 - val_loss: -37.1063 - val_acc: 0.0155\n",
      "Epoch 11/100\n",
      "200/200 [==============================] - 45s 224ms/step - loss: -36.9798 - acc: 0.0138 - val_loss: -37.4061 - val_acc: 0.0144\n",
      "Epoch 12/100\n",
      "200/200 [==============================] - 51s 255ms/step - loss: -36.8269 - acc: 0.0159 - val_loss: -36.9764 - val_acc: 0.0160\n",
      "Epoch 13/100\n",
      "200/200 [==============================] - 55s 277ms/step - loss: -36.6854 - acc: 0.0139 - val_loss: -37.1323 - val_acc: 0.0155\n",
      "Epoch 14/100\n",
      "200/200 [==============================] - 51s 257ms/step - loss: -36.9385 - acc: 0.0161 - val_loss: -37.3316 - val_acc: 0.0156\n",
      "Epoch 15/100\n",
      "200/200 [==============================] - 48s 239ms/step - loss: -37.4671 - acc: 0.0164 - val_loss: -36.9025 - val_acc: 0.0157\n",
      "Epoch 16/100\n",
      "200/200 [==============================] - 49s 247ms/step - loss: -37.0660 - acc: 0.0160 - val_loss: -37.5000 - val_acc: 0.0142\n",
      "Epoch 17/100\n",
      "200/200 [==============================] - 52s 260ms/step - loss: -36.7253 - acc: 0.0131 - val_loss: -37.0943 - val_acc: 0.0153\n",
      "Epoch 18/100\n",
      "200/200 [==============================] - 54s 272ms/step - loss: -36.7022 - acc: 0.0149 - val_loss: -37.2076 - val_acc: 0.0157\n",
      "Epoch 19/100\n",
      "200/200 [==============================] - 51s 257ms/step - loss: -36.9025 - acc: 0.0158 - val_loss: -37.1063 - val_acc: 0.0154\n",
      "Epoch 20/100\n",
      "200/200 [==============================] - 50s 251ms/step - loss: -37.3591 - acc: 0.0154 - val_loss: -37.3961 - val_acc: 0.0154\n",
      "Epoch 21/100\n",
      "200/200 [==============================] - 51s 253ms/step - loss: -36.4642 - acc: 0.0164 - val_loss: -37.1763 - val_acc: 0.0152\n",
      "Epoch 22/100\n",
      "200/200 [==============================] - 52s 261ms/step - loss: -37.2591 - acc: 0.0136 - val_loss: -37.0284 - val_acc: 0.0154\n",
      "Epoch 23/100\n",
      "200/200 [==============================] - 51s 255ms/step - loss: -37.3789 - acc: 0.0133 - val_loss: -37.3076 - val_acc: 0.0152\n",
      "Epoch 24/100\n",
      "200/200 [==============================] - 51s 253ms/step - loss: -36.9604 - acc: 0.0165 - val_loss: -37.2542 - val_acc: 0.0154\n",
      "Epoch 25/100\n",
      "200/200 [==============================] - 50s 248ms/step - loss: -36.3486 - acc: 0.0161 - val_loss: -37.0424 - val_acc: 0.0159\n",
      "Epoch 26/100\n",
      "200/200 [==============================] - 49s 245ms/step - loss: -37.2136 - acc: 0.0143 - val_loss: -37.1962 - val_acc: 0.0154\n",
      "Epoch 27/100\n",
      "200/200 [==============================] - 51s 256ms/step - loss: -36.4582 - acc: 0.0168 - val_loss: -37.1495 - val_acc: 0.0146\n",
      "Epoch 28/100\n",
      "200/200 [==============================] - 51s 254ms/step - loss: -37.1378 - acc: 0.0139 - val_loss: -37.2882 - val_acc: 0.0154\n",
      "Epoch 29/100\n",
      "200/200 [==============================] - 51s 254ms/step - loss: -36.8119 - acc: 0.0150 - val_loss: -37.0344 - val_acc: 0.0154\n",
      "Epoch 30/100\n",
      "200/200 [==============================] - 49s 245ms/step - loss: -36.8907 - acc: 0.0156 - val_loss: -37.2762 - val_acc: 0.0157\n",
      "Epoch 31/100\n",
      "200/200 [==============================] - 49s 243ms/step - loss: -37.1079 - acc: 0.0170 - val_loss: -37.0384 - val_acc: 0.0147\n",
      "Epoch 32/100\n",
      "200/200 [==============================] - 49s 243ms/step - loss: -36.8727 - acc: 0.0134 - val_loss: -37.3717 - val_acc: 0.0153\n",
      "Epoch 33/100\n",
      "200/200 [==============================] - 49s 247ms/step - loss: -37.1722 - acc: 0.0151 - val_loss: -37.3661 - val_acc: 0.0157\n",
      "Epoch 34/100\n",
      "200/200 [==============================] - 50s 251ms/step - loss: -37.1491 - acc: 0.0163 - val_loss: -36.9125 - val_acc: 0.0152\n",
      "Epoch 35/100\n",
      "200/200 [==============================] - 50s 248ms/step - loss: -36.9721 - acc: 0.0133 - val_loss: -37.1683 - val_acc: 0.0153\n",
      "Epoch 36/100\n",
      "200/200 [==============================] - 50s 249ms/step - loss: -36.7377 - acc: 0.0165 - val_loss: -37.2016 - val_acc: 0.0153\n",
      "Epoch 37/100\n",
      "200/200 [==============================] - 50s 250ms/step - loss: -36.6828 - acc: 0.0128 - val_loss: -37.2962 - val_acc: 0.0160\n",
      "Epoch 38/100\n",
      "200/200 [==============================] - 49s 244ms/step - loss: -36.6661 - acc: 0.0173 - val_loss: -36.8785 - val_acc: 0.0159\n",
      "Epoch 39/100\n",
      "200/200 [==============================] - 50s 248ms/step - loss: -37.0800 - acc: 0.0153 - val_loss: -37.4081 - val_acc: 0.0143\n",
      "Epoch 40/100\n",
      "200/200 [==============================] - 65s 325ms/step - loss: -37.1734 - acc: 0.0149 - val_loss: -37.1523 - val_acc: 0.0152\n",
      "Epoch 41/100\n",
      "200/200 [==============================] - 66s 328ms/step - loss: -36.7156 - acc: 0.0154 - val_loss: -37.2616 - val_acc: 0.0149\n",
      "Epoch 42/100\n",
      "200/200 [==============================] - 71s 353ms/step - loss: -37.4051 - acc: 0.0138 - val_loss: -37.1243 - val_acc: 0.0162\n",
      "Epoch 43/100\n",
      "103/200 [==============>...............] - ETA: 25s - loss: -36.5737 - acc: 0.0177"
     ]
    }
   ],
   "source": [
    "history = model.fit_generator(\n",
    "      train_generator,\n",
    "      steps_per_epoch=200,\n",
    "      epochs=100,\n",
    "      validation_data=validation_generator,\n",
    "      validation_steps=200)"
   ]
  },
  {
   "cell_type": "markdown",
   "metadata": {},
   "source": [
    "It is good practice to always save your models after training:"
   ]
  },
  {
   "cell_type": "code",
   "execution_count": 13,
   "metadata": {},
   "outputs": [],
   "source": [
    "model.save('TRAINED_DATA.h5')"
   ]
  },
  {
   "cell_type": "markdown",
   "metadata": {},
   "source": [
    "Let's plot the loss and accuracy of the model over the training and validation data during training:"
   ]
  },
  {
   "cell_type": "code",
   "execution_count": 14,
   "metadata": {},
   "outputs": [
    {
     "data": {
      "image/png": "[encoded data removed]",
      "text/plain": [
       "<Figure size 432x288 with 1 Axes>"
      ]
     },
     "metadata": {
      "needs_background": "light"
     },
     "output_type": "display_data"
    },
    {
     "data": {
      "image/png": "[encoded data removed]",
      "text/plain": [
       "<Figure size 432x288 with 1 Axes>"
      ]
     },
     "metadata": {
      "needs_background": "light"
     },
     "output_type": "display_data"
    }
   ],
   "source": [
    "import matplotlib.pyplot as plt\n",
    "\n",
    "acc = history.history['acc']\n",
    "val_acc = history.history['val_acc']\n",
    "loss = history.history['loss']\n",
    "val_loss = history.history['val_loss']\n",
    "\n",
    "epochs = range(len(acc))\n",
    "\n",
    "plt.plot(epochs, acc, 'bo', label='Training acc')\n",
    "plt.plot(epochs, val_acc, 'b', label='Validation acc')\n",
    "plt.title('Training and validation accuracy')\n",
    "plt.legend()\n",
    "\n",
    "plt.figure()\n",
    "\n",
    "plt.plot(epochs, loss, 'bo', label='Training loss')\n",
    "plt.plot(epochs, val_loss, 'b', label='Validation loss')\n",
    "plt.title('Training and validation loss')\n",
    "plt.legend()\n",
    "\n",
    "plt.show()"
   ]
  },
  {
   "cell_type": "markdown",
   "metadata": {},
   "source": [
    "# Visualizing what the Convolutional network learn"
   ]
  },
  {
   "cell_type": "markdown",
   "metadata": {},
   "source": [
    "we shall test"
   ]
  },
  {
   "cell_type": "code",
   "execution_count": null,
   "metadata": {},
   "outputs": [],
   "source": [
    "from keras.models import load_model\n",
    "\n",
    "model = load_model('TRAINED_DATA.h5')"
   ]
  },
  {
   "cell_type": "markdown",
   "metadata": {},
   "source": [
    "This will be the input image we will use -- a picture of a cat, not part of images that the network was trained on:"
   ]
  },
  {
   "cell_type": "code",
   "execution_count": null,
   "metadata": {},
   "outputs": [],
   "source": [
    "img_path = '/tumelo/Downloads/Test/0/Training_73732383.jpg'\n",
    "\n",
    "# We preprocess the image into a 4D tensor\n",
    "from keras.preprocessing import image\n",
    "import numpy as np\n",
    "\n",
    "img = image.load_img(img_path, target_size=(48, 48))\n",
    "img_tensor = image.img_to_array(img)\n",
    "img_tensor = np.expand_dims(img_tensor, axis=0)\n",
    "# Remember that the model was trained on inputs\n",
    "# that were preprocessed in the following way:\n",
    "img_tensor /= 255.\n",
    "\n",
    "# Its shape is (1, 150, 150, 3)\n",
    "print(img_tensor.shape)"
   ]
  },
  {
   "cell_type": "markdown",
   "metadata": {},
   "source": [
    "Let's display our picture:"
   ]
  },
  {
   "cell_type": "code",
   "execution_count": null,
   "metadata": {},
   "outputs": [],
   "source": [
    "import matplotlib.pyplot as plt\n",
    "\n",
    "plt.imshow(img_tensor[0])\n",
    "plt.show()"
   ]
  },
  {
   "cell_type": "code",
   "execution_count": null,
   "metadata": {},
   "outputs": [],
   "source": [
    "from keras import models\n",
    "\n",
    "# Extracts the outputs of the top 8 layers:\n",
    "layer_outputs = [layer.output for layer in model.layers[:8]]\n",
    "# Creates a model that will return these outputs, given the model input:\n",
    "activation_model = models.Model(inputs=model.input, outputs=layer_outputs)\n",
    "\n",
    "# This will return a list of 5 Numpy arrays:\n",
    "# one array per layer activation\n",
    "activations = activation_model.predict(img_tensor)\n",
    "\n",
    "first_layer_activation = activations[0]\n",
    "\n",
    "import matplotlib.pyplot as plt\n",
    "\n",
    "plt.matshow(first_layer_activation[0, :, :, 3], cmap='viridis')\n",
    "plt.show()"
   ]
  },
  {
   "cell_type": "markdown",
   "metadata": {},
   "source": [
    "This channel appears to encode a diagonal edge detector. Let's try the 30th channel -- but note that your own channels may vary, since the specific filters learned by convolution layers are not deterministic."
   ]
  },
  {
   "cell_type": "code",
   "execution_count": null,
   "metadata": {},
   "outputs": [],
   "source": [
    "plt.matshow(first_layer_activation[0, :, :, 30], cmap='viridis')\n",
    "plt.show()"
   ]
  },
  {
   "cell_type": "markdown",
   "metadata": {},
   "source": [
    "This one looks like a \"bright green dot\" detector, useful to encode features in the eyes. At this point, let's go and plot a complete visualization of all the activations in the network. We'll extract and plot every channel in each of our 8 activation maps, and we will stack the results in one big image tensor, with channels stacked side by side."
   ]
  },
  {
   "cell_type": "code",
   "execution_count": null,
   "metadata": {},
   "outputs": [],
   "source": [
    "import keras\n",
    "\n",
    "# These are the names of the layers, so can have them as part of our plot\n",
    "layer_names = []\n",
    "for layer in model.layers[:8]:\n",
    "    layer_names.append(layer.name)\n",
    "\n",
    "images_per_row = 16\n",
    "\n",
    "# Now let's display our feature maps\n",
    "for layer_name, layer_activation in zip(layer_names, activations):\n",
    "    # This is the number of features in the feature map\n",
    "    n_features = layer_activation.shape[-1]\n",
    "\n",
    "    # The feature map has shape (1, size, size, n_features)\n",
    "    size = layer_activation.shape[1]\n",
    "\n",
    "    # We will tile the activation channels in this matrix\n",
    "    n_cols = n_features // images_per_row\n",
    "    display_grid = np.zeros((size * n_cols, images_per_row * size))\n",
    "\n",
    "    # We'll tile each filter into this big horizontal grid\n",
    "    for col in range(n_cols):\n",
    "        for row in range(images_per_row):\n",
    "            channel_image = layer_activation[0,\n",
    "                                             :, :,\n",
    "                                             col * images_per_row + row]\n",
    "            # Post-process the feature to make it visually palatable\n",
    "            channel_image -= channel_image.mean()\n",
    "            channel_image /= channel_image.std()\n",
    "            channel_image *= 64\n",
    "            channel_image += 128\n",
    "            channel_image = np.clip(channel_image, 0, 255).astype('uint8')\n",
    "            display_grid[col * size : (col + 1) * size,\n",
    "                         row * size : (row + 1) * size] = channel_image\n",
    "\n",
    "    # Display the grid\n",
    "    scale = 1. / size\n",
    "    plt.figure(figsize=(scale * display_grid.shape[1],\n",
    "                        scale * display_grid.shape[0]))\n",
    "    plt.title(layer_name)\n",
    "    plt.grid(False)\n",
    "    plt.imshow(display_grid, aspect='auto', cmap='viridis')\n",
    "    \n",
    "plt.show()"
   ]
  },
  {
   "cell_type": "markdown",
   "metadata": {},
   "source": [
    "A few remarkable things to note here:\n",
    "\n",
    "* The first layer acts as a collection of various edge detectors. At that stage, the activations are still retaining almost all of the \n",
    "information present in the initial picture.\n",
    "* As we go higher-up, the activations become increasingly abstract and less visually interpretable. They start encoding higher-level \n",
    "concepts such as \"human ear\" or \"human eye\". Higher-up presentations carry increasingly less information about the visual contents of the \n",
    "image, and increasingly more information related to the class of the image.\n",
    "* The sparsity of the activations is increasing with the depth of the layer: in the first layer, all filters are activated by the input \n",
    "image, but in the following layers more and more filters are blank. This means that the pattern encoded by the filter isn't found in the \n",
    "input image."
   ]
  },
  {
   "cell_type": "code",
   "execution_count": null,
   "metadata": {},
   "outputs": [],
   "source": []
  },
  {
   "cell_type": "code",
   "execution_count": null,
   "metadata": {},
   "outputs": [],
   "source": []
  }
 ],
 "metadata": {
  "kernelspec": {
   "display_name": "Python 3",
   "language": "python",
   "name": "python3"
  },
  "language_info": {
   "codemirror_mode": {
    "name": "ipython",
    "version": 3
   },
   "file_extension": ".py",
   "mimetype": "text/x-python",
   "name": "python",
   "nbconvert_exporter": "python",
   "pygments_lexer": "ipython3",
   "version": "3.6.7"
  }
 },
 "nbformat": 4,
 "nbformat_minor": 2
}
